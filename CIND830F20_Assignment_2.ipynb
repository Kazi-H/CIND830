{
  "nbformat": 4,
  "nbformat_minor": 0,
  "metadata": {
    "colab": {
      "name": "CIND830F20 Assignment 2.ipynb",
      "provenance": [],
      "collapsed_sections": []
    },
    "kernelspec": {
      "display_name": "Python 3",
      "language": "python",
      "name": "python3"
    },
    "language_info": {
      "codemirror_mode": {
        "name": "ipython",
        "version": 3
      },
      "file_extension": ".py",
      "mimetype": "text/x-python",
      "name": "python",
      "nbconvert_exporter": "python",
      "pygments_lexer": "ipython3",
      "version": "3.7.6"
    },
    "nteract": {
      "version": "0.25.1"
    },
    "varInspector": {
      "cols": {
        "lenName": 16,
        "lenType": 16,
        "lenVar": 40
      },
      "kernels_config": {
        "python": {
          "delete_cmd_postfix": "",
          "delete_cmd_prefix": "del ",
          "library": "var_list.py",
          "varRefreshCmd": "print(var_dic_list())"
        },
        "r": {
          "delete_cmd_postfix": ") ",
          "delete_cmd_prefix": "rm(",
          "library": "var_list.r",
          "varRefreshCmd": "cat(var_dic_list()) "
        }
      },
      "types_to_exclude": [
        "module",
        "function",
        "builtin_function_or_method",
        "instance",
        "_Feature"
      ],
      "window_display": false
    }
  },
  "cells": [
    {
      "cell_type": "markdown",
      "metadata": {
        "id": "TX_-QfCapg5r"
      },
      "source": [
        "## CIND830 - Python Programming for Data Science  \n",
        "### Assignment 2 (10% of the final grade)\n",
        "### Due on November 09, 2020 11:59 PM"
      ]
    },
    {
      "cell_type": "markdown",
      "metadata": {
        "id": "U8IqCJzxpg5t"
      },
      "source": [
        "*****\n",
        "This is a Jupyter Notebook document that extends a simple formatting syntax for authoring HTML and PDF.\n",
        "Review [this](https://jupyter-notebook.readthedocs.io/en/stable/notebook.html) website for more details on using Juputer Notebook.\n",
        "\n",
        "Use the JupyterHub server on the Google Cloud Platform,\n",
        "provided by your designated instructor, for this assignment.\n",
        "Complete the assignment by inserting your Python code wherever you see the string\n",
        "\"#INSERT YOUR ANSWER HERE.\"\n",
        "\n",
        "When you click the `File` button, from the top navigation bar, then select `Export Notebook As ...`,\n",
        "a document (PDF or HTML format) will be generated that includes\n",
        " both the assignment content and the output of any embedded Python code chunks.\n",
        "\n",
        "Using [these](https://www.ryerson.ca/courses/students/tutorials/assignments/) guidelines,\n",
        "submit **both** the IPYNB and the exported file (PDF or HTML).\n",
        "Failing to submit both files will be subject to mark deduction."
      ]
    },
    {
      "cell_type": "markdown",
      "metadata": {
        "id": "_w2FpDl5pg5u"
      },
      "source": [
        "*****"
      ]
    },
    {
      "cell_type": "markdown",
      "metadata": {
        "id": "EgCYUXsUpg5w"
      },
      "source": [
        "### Question 1:"
      ]
    },
    {
      "cell_type": "markdown",
      "metadata": {
        "id": "U8EiOXpFAvO0"
      },
      "source": [
        "**a)** Define a function called `getEven` that takes a list of numbers as a parameter and returns a new list that contains only the even numbers.\n",
        "For example given \\[1, 2, 3, 4, 5, 7\\] the getEven function will return \\[2, 4\\]"
      ]
    },
    {
      "cell_type": "code",
      "metadata": {
        "execution": {
          "iopub.execute_input": "2020-10-12T00:51:46.336Z",
          "iopub.status.busy": "2020-10-12T00:51:46.323Z",
          "iopub.status.idle": "2020-10-12T00:51:46.350Z",
          "shell.execute_reply": "2020-10-12T00:51:46.143Z"
        },
        "id": "uDtTitw9AvO1",
        "pycharm": {
          "name": "#%%\n"
        },
        "outputId": "144ad517-ce93-471d-b1a6-5c5ec6864ddf",
        "colab": {
          "base_uri": "https://localhost:8080/"
        }
      },
      "source": [
        "number_list = []\n",
        "n = int(input(\"How many numbers will be in your list: \"))\n",
        "for i in range(1, n+1):\n",
        "  print(\"Enter number\", i, \":\")\n",
        "  item = int(input())\n",
        "  number_list.append(item)\n",
        "print(\"Your list is:\", number_list)\n",
        "\n",
        "def getEven(number_list):\n",
        "  result = []\n",
        "  for p in number_list:\n",
        "    if p % 2 == 0:\n",
        "      result.append(p)\n",
        "  return result\n",
        "print(\"Even numbers from your list are:\", getEven(number_list))\n"
      ],
      "execution_count": null,
      "outputs": [
        {
          "output_type": "stream",
          "text": [
            "How many numbers will be in your list: 4\n",
            "Enter number 1 :\n",
            "1\n",
            "Enter number 2 :\n",
            "2\n",
            "Enter number 3 :\n",
            "3\n",
            "Enter number 4 :\n",
            "4\n",
            "Your list is: [1, 2, 3, 4]\n",
            "Even numbers from your list are: [2, 4]\n"
          ],
          "name": "stdout"
        }
      ]
    },
    {
      "cell_type": "markdown",
      "metadata": {
        "id": "7P6eyfpepg58"
      },
      "source": [
        "**b)** Modify the `getEven` function you created in Q1.a to return a dictionary of the counts of the even and the odd numbers. For example given \\[1, 2, 3, 4, 5, 7\\] the function returns {'even': 2, 'odd': 4}."
      ]
    },
    {
      "cell_type": "code",
      "metadata": {
        "execution": {
          "iopub.execute_input": "2020-10-12T00:51:46.380Z",
          "iopub.status.busy": "2020-10-12T00:51:46.370Z",
          "iopub.status.idle": "2020-10-12T00:51:46.390Z",
          "shell.execute_reply": "2020-10-12T00:51:46.160Z"
        },
        "id": "s2xo2uaYpg59",
        "pycharm": {
          "name": "#%%\n"
        },
        "tags": [
          "parameters"
        ],
        "outputId": "4cc38d49-1cb9-44f7-a6d2-78b3c30c3a0f",
        "colab": {
          "base_uri": "https://localhost:8080/"
        }
      },
      "source": [
        "number_list = []\n",
        "n = int(input(\"How many numbers will be in your list: \"))\n",
        "for i in range(1, n+1):\n",
        "  print(\"Enter number\", i, \":\")\n",
        "  item = int(input())\n",
        "  number_list.append(item)\n",
        "print(\"Your list is:\", number_list)\n",
        "\n",
        "def getEven(number_list):\n",
        "  odd_even = {'Even':0, 'Odd':0}\n",
        "  for p in number_list:\n",
        "      if p % 2 == 0:\n",
        "        odd_even['Even'] += 1\n",
        "      else: \n",
        "        odd_even['Odd'] += 1\n",
        "  return odd_even\n",
        "print(\"Numbers of even and odd numbers from your list are:\", getEven(number_list))"
      ],
      "execution_count": null,
      "outputs": [
        {
          "output_type": "stream",
          "text": [
            "How many numbers will be in your list: 5\n",
            "Enter number 1 :\n",
            "1\n",
            "Enter number 2 :\n",
            "2\n",
            "Enter number 3 :\n",
            "3\n",
            "Enter number 4 :\n",
            "4\n",
            "Enter number 5 :\n",
            "5\n",
            "Your list is: [1, 2, 3, 4, 5]\n",
            "Numbers of even and odd numbers from your list are: {'Even': 2, 'Odd': 3}\n"
          ],
          "name": "stdout"
        }
      ]
    },
    {
      "cell_type": "markdown",
      "metadata": {
        "id": "xC08P3Mvpg6C"
      },
      "source": [
        "**c)** Modify the function you created in Q1.b and add two more more entries to the returned dictionary: one to represent the sum of all the numbers and the other one to represent the ratio of the even to the odd numbers.  For example, given \\[1, 2, 3, 4, 5, 7\\] the function returns {'even': 2, 'odd': 4, 'sum': 6, 'ratio': 0.5}."
      ]
    },
    {
      "cell_type": "code",
      "metadata": {
        "execution": {
          "iopub.execute_input": "2020-10-12T00:51:46.418Z",
          "iopub.status.busy": "2020-10-12T00:51:46.403Z",
          "iopub.status.idle": "2020-10-12T00:51:46.429Z",
          "shell.execute_reply": "2020-10-12T00:51:46.172Z"
        },
        "id": "MVoBD9X1pg6D",
        "pycharm": {
          "name": "#%%\n"
        },
        "tags": [],
        "outputId": "75f3a553-b2db-4fc2-c2cf-0a4b8a00271d",
        "colab": {
          "base_uri": "https://localhost:8080/"
        }
      },
      "source": [
        "number_list = []\n",
        "n = int(input(\"How many numbers will be in your list: \"))\n",
        "for i in range(1, n+1):\n",
        "  print(\"Enter number\", i, \":\")\n",
        "  item = int(input())\n",
        "  number_list.append(item)\n",
        "print(\"Your list is:\", number_list)\n",
        "\n",
        "def getEven(number_list):\n",
        "  odd_even = {'Even':0, 'Odd':0, 'Sum':0, 'Ratio':0}\n",
        "  for p in number_list:\n",
        "      if p % 2 == 0:\n",
        "        odd_even['Even'] += 1\n",
        "      else: \n",
        "        odd_even['Odd'] += 1\n",
        "      odd_even['Sum'] += 1\n",
        "      if odd_even['Odd'] > 1:\n",
        "        odd_even['Ratio'] = odd_even['Even']/odd_even['Odd']\n",
        "      else:\n",
        "        odd_even['Ratio'] = 'Noncalculable'\n",
        "  return odd_even\n",
        "print(\"Parameters from your list are:\", getEven(number_list))"
      ],
      "execution_count": null,
      "outputs": [
        {
          "output_type": "stream",
          "text": [
            "How many numbers will be in your list: 7\n",
            "Enter number 1 :\n",
            "1\n",
            "Enter number 2 :\n",
            "2\n",
            "Enter number 3 :\n",
            "3\n",
            "Enter number 4 :\n",
            "4\n",
            "Enter number 5 :\n",
            "5\n",
            "Enter number 6 :\n",
            "6\n",
            "Enter number 7 :\n",
            "7\n",
            "Your list is: [1, 2, 3, 4, 5, 6, 7]\n",
            "Parameters from your list are: {'Even': 3, 'Odd': 4, 'Sum': 7, 'Ratio': 0.75}\n"
          ],
          "name": "stdout"
        }
      ]
    },
    {
      "cell_type": "markdown",
      "metadata": {
        "id": "M4dHoJWYpg6G"
      },
      "source": [
        "**d)** Modify the function you created in Q1.c to traverse the values of the returned dictionary and return the dictionary keys as a tuple.  For example, given \\[1, 2, 3, 4, 5, 7\\] the function returns ('even', 'odd', 'sum', 'ratio')."
      ]
    },
    {
      "cell_type": "code",
      "metadata": {
        "execution": {
          "iopub.execute_input": "2020-10-12T00:51:46.457Z",
          "iopub.status.busy": "2020-10-12T00:51:46.445Z",
          "iopub.status.idle": "2020-10-12T00:51:46.467Z",
          "shell.execute_reply": "2020-10-12T00:51:46.185Z"
        },
        "id": "gtgmUSaQpg6H",
        "pycharm": {
          "name": "#%%\n"
        },
        "tags": [],
        "outputId": "f4ded7af-40e1-4e80-bc08-f2a497cc7f60",
        "colab": {
          "base_uri": "https://localhost:8080/"
        }
      },
      "source": [
        "number_list = []\n",
        "n = int(input(\"How many numbers will be in your list: \"))\n",
        "for i in range(1, n+1):\n",
        "  print(\"Enter number\", i, \":\")\n",
        "  item = int(input())\n",
        "  number_list.append(item)\n",
        "print(\"Your list is:\", number_list)\n",
        "\n",
        "def getEven(number_list):\n",
        "  odd_even = {'Even':0, 'Odd':0, 'Sum':0, 'Ratio':0}\n",
        "  for p in number_list:\n",
        "      if p % 2 == 0:\n",
        "        odd_even['Even'] += 1\n",
        "      else: \n",
        "        odd_even['Odd'] += 1\n",
        "      odd_even['Sum'] += 1\n",
        "      if odd_even['Odd'] > 1:\n",
        "        odd_even['Ratio'] = odd_even['Even']/odd_even['Odd']\n",
        "      else:\n",
        "        odd_even['Ratio'] = 'Noncalculable'\n",
        "  return list(odd_even.keys())\n",
        "print(\"Keys from the dictionary are:\", tuple(getEven(number_list)))"
      ],
      "execution_count": null,
      "outputs": [
        {
          "output_type": "stream",
          "text": [
            "How many numbers will be in your list: 4\n",
            "Enter number 1 :\n",
            "1\n",
            "Enter number 2 :\n",
            "2\n",
            "Enter number 3 :\n",
            "3\n",
            "Enter number 4 :\n",
            "4\n",
            "Your list is: [1, 2, 3, 4]\n",
            "Keys from the dictionary are: ('Even', 'Odd', 'Sum', 'Ratio')\n"
          ],
          "name": "stdout"
        }
      ]
    },
    {
      "cell_type": "markdown",
      "metadata": {
        "id": "ES2Lj2aup8BB"
      },
      "source": [
        "*****"
      ]
    },
    {
      "cell_type": "markdown",
      "metadata": {
        "id": "TEbtnn-0pg6K",
        "nteract": {
          "transient": {
            "deleting": false
          }
        }
      },
      "source": [
        "\n",
        "\n",
        "### Question 2:\n",
        "\n",
        "Let's define a base class called `Shape` with methods to calculate the area and perimeter of different shapes, as follows:"
      ]
    },
    {
      "cell_type": "code",
      "metadata": {
        "execution": {
          "iopub.execute_input": "2020-10-12T00:51:46.492Z",
          "iopub.status.busy": "2020-10-12T00:51:46.483Z",
          "iopub.status.idle": "2020-10-12T00:51:46.503Z",
          "shell.execute_reply": "2020-10-12T00:51:46.194Z"
        },
        "id": "sAiYselppg6K",
        "jupyter": {
          "outputs_hidden": false,
          "source_hidden": false
        },
        "nteract": {
          "transient": {
            "deleting": false
          }
        }
      },
      "source": [
        "class Shape:\n",
        "    '''A class defining shapes'''\n",
        "    def __repr__(self):\n",
        "        return f'I am a {self.__class__.__name__}' #print the shape's name\n",
        "\n",
        "    def area(self):\n",
        "        pass\n",
        "\n",
        "    def perimeter(self):\n",
        "        pass"
      ],
      "execution_count": null,
      "outputs": []
    },
    {
      "cell_type": "markdown",
      "metadata": {
        "id": "FRw3RLJ0pg6M",
        "nteract": {
          "transient": {
            "deleting": false
          }
        }
      },
      "source": [
        "**a)**  Define a subclass called `Rectangle` that extends the `Shape` class.  The `Rectangle` class has two parameters: width and height. The area and perimeter of can be computed according to the following formulae:\n",
        "\n",
        "$ area = width * height $\n",
        "\n",
        "$ perimeter = 2 * width * height $\n",
        "\n",
        "Hint: A subclass can implement a base class by overriding methods. The `Rectangle` subclass can be defined with the following header:\n",
        "`class Rectangle(Shape):`\n",
        "\n",
        "For example, if the subclass `Rectangle` is instantiated with `Rectangle(3,4)`, the following will be returned:\n",
        "\n",
        "`I am a Rectangle`\n",
        "\n",
        "`area = 12`\n",
        "\n",
        "`perimeter = 14`"
      ]
    },
    {
      "cell_type": "code",
      "metadata": {
        "execution": {
          "iopub.execute_input": "2020-10-12T00:51:46.534Z",
          "iopub.status.busy": "2020-10-12T00:51:46.523Z",
          "iopub.status.idle": "2020-10-12T00:51:46.546Z",
          "shell.execute_reply": "2020-10-12T00:51:46.214Z"
        },
        "id": "PWvj1Z6lpg6N",
        "nteract": {
          "transient": {
            "deleting": false
          }
        },
        "tags": [],
        "outputId": "8d170e3b-11dc-458d-c4db-b89228ee35e8",
        "colab": {
          "base_uri": "https://localhost:8080/"
        }
      },
      "source": [
        "class Rectangle(Shape):\n",
        "\n",
        "  def __init__(self, width, height):\n",
        "    self.width = width\n",
        "    self.height = height\n",
        "  \n",
        "  def area(self):\n",
        "    return self.width*self.height\n",
        "\n",
        "  def perimeter(self):\n",
        "    return 2*(self.width+self.height)\n",
        "    \n",
        "print(Rectangle(2,4))\n",
        "print(\"area = \", Rectangle(2,4).area())\n",
        "print(\"perimeter = \", Rectangle(2,4).perimeter())"
      ],
      "execution_count": null,
      "outputs": [
        {
          "output_type": "stream",
          "text": [
            "I am a Rectangle\n",
            "area =  8\n",
            "perimeter =  12\n"
          ],
          "name": "stdout"
        }
      ]
    },
    {
      "cell_type": "markdown",
      "metadata": {
        "id": "dGqJtsN4AvPB"
      },
      "source": [
        "**b)**  Define a subclass called `Square` that extends the `Rectangle` class. \n",
        "\n",
        "Hint: The `Square` class should inherit all the attributes and behaviours of the `Rectangle` class. However, for any square, the width and height are the same."
      ]
    },
    {
      "cell_type": "code",
      "metadata": {
        "execution": {
          "iopub.execute_input": "2020-10-12T00:51:46.573Z",
          "iopub.status.busy": "2020-10-12T00:51:46.562Z",
          "iopub.status.idle": "2020-10-12T00:51:46.584Z",
          "shell.execute_reply": "2020-10-12T00:51:46.227Z"
        },
        "id": "DVOaFVZvAvPO",
        "pycharm": {
          "name": "#%%\n"
        },
        "tags": [],
        "outputId": "0c2b9138-f9d4-4492-f37e-1acb34a90cae",
        "colab": {
          "base_uri": "https://localhost:8080/"
        }
      },
      "source": [
        "class Square(Rectangle):\n",
        "\n",
        "  def __init__(self, side):\n",
        "    Rectangle.__init__(self, side, side)\n",
        "    \n",
        "print(Square(4))\n",
        "print(\"area = \", Square(4).area())\n",
        "print(\"perimeter = \", Square(4).perimeter())"
      ],
      "execution_count": null,
      "outputs": [
        {
          "output_type": "stream",
          "text": [
            "I am a Square\n",
            "area =  16\n",
            "perimeter =  16\n"
          ],
          "name": "stdout"
        }
      ]
    },
    {
      "cell_type": "markdown",
      "metadata": {
        "id": "mkFrWZ3kAvPQ"
      },
      "source": [
        "**c)**  Define a subclass called `Circle` that extends the `Shape` class.  The `Circle` class has only one parameter which is the `radius`, and the area and perimeter can be computed according to the following formulae:\n",
        "\n",
        "$Area Of Circle = πR^2$\n",
        "\n",
        "$Perimeter Of Circle = 2πR$\n",
        "\n",
        "Hint:  You might consider using the `math.pi` constant that returns the value of pi: 3.141592653589793.\n",
        "\n",
        "For example, if the subclass `Circle` is instantiated with Circle(radius = 5), the following will be returned:\n",
        "\n",
        "`I am a Circle`\n",
        "\n",
        "`area = 78.54`\n",
        "\n",
        "`perimeter = 31.42`"
      ]
    },
    {
      "cell_type": "code",
      "metadata": {
        "execution": {
          "iopub.execute_input": "2020-10-12T00:51:46.607Z",
          "iopub.status.busy": "2020-10-12T00:51:46.599Z",
          "iopub.status.idle": "2020-10-12T00:51:46.617Z",
          "shell.execute_reply": "2020-10-12T00:51:46.240Z"
        },
        "id": "fP4sK_mKAvPR",
        "pycharm": {
          "name": "#%%\n"
        },
        "tags": [],
        "outputId": "efbb1ac3-8b5c-45b5-8292-becac4899516",
        "colab": {
          "base_uri": "https://localhost:8080/"
        }
      },
      "source": [
        "import math\n",
        "\n",
        "class Circle(Shape):\n",
        "\n",
        "  def __init__(self, radius):\n",
        "    self.radius = radius\n",
        "  \n",
        "  def area(self):\n",
        "    return format((math.pi*self.radius**2), '.2f')\n",
        "\n",
        "  def perimeter(self):\n",
        "    return format((2*math.pi*self.radius), '.2f')\n",
        "\n",
        "print(Circle(5))\n",
        "print(\"area = \", Circle(5).area())\n",
        "print(\"perimeter = \", Circle(5).perimeter())\n"
      ],
      "execution_count": null,
      "outputs": [
        {
          "output_type": "stream",
          "text": [
            "I am a Circle\n",
            "area =  78.54\n",
            "perimeter =  31.42\n"
          ],
          "name": "stdout"
        }
      ]
    },
    {
      "cell_type": "markdown",
      "metadata": {
        "id": "M9eJ34NNAvPT"
      },
      "source": [
        "*****"
      ]
    },
    {
      "cell_type": "markdown",
      "metadata": {
        "id": "NNVEX5FMq_I7"
      },
      "source": [
        "### Question 3:\n",
        "Email spam, also called junk email, is undesirable message sent in bulk by email (spamming). Spam filtering is an example of a document classification task deciding whether an email is a spam or non-spam. Assume that `txtFile` variable includes the content of a recieved email that has been stored as `email.txt`, as follows:\n"
      ]
    },
    {
      "cell_type": "code",
      "metadata": {
        "execution": {
          "iopub.execute_input": "2020-10-12T00:51:46.641Z",
          "iopub.status.busy": "2020-10-12T00:51:46.631Z",
          "iopub.status.idle": "2020-10-12T00:51:46.651Z",
          "shell.execute_reply": "2020-10-12T00:51:46.254Z"
        },
        "id": "5WRgwMXxAvPV",
        "pycharm": {
          "name": "#%%\n"
        }
      },
      "source": [
        "txtFile = open(\"email.txt\", \"w\") #Opening a file for writing\n",
        "txtFile.write(\"Subject: SAVE YOUR MUSIC AND REDEEM A SPOTIFY GIFT CARD\\n\\\n",
        "We noticed you haven\\'t used your Spotify account for accessing Spotify services in quite a while. To protect your privacy, this account will be deleted in 14 days, unless you sign in now!\\n\\\n",
        "If you haven\\'t experienced Spotify services recently, they\\'re worth another look.\\n\\\n",
        "It just takes a few seconds to sign in to a spotify account.\\n\\\n",
        "By clicking on any of the following links, you can get a gift card from Spotify worth $10, $20 or $50!\\n\\\n",
        "https://www.spotifytwo.ca\\n\\\n",
        "https://www.spotifynow.com\\n\\\n",
        "We hope to see you soon,\\n\\\n",
        "Sincerely, \\n\\\n",
        "Spotify account team\")\n",
        "txtFile.close()"
      ],
      "execution_count": null,
      "outputs": []
    },
    {
      "cell_type": "markdown",
      "metadata": {
        "id": "oDRF95yUAvPW",
        "pycharm": {
          "name": "#%% md\n"
        }
      },
      "source": [
        "**a)** Display the total number of lines and words in the email.txt file."
      ]
    },
    {
      "cell_type": "code",
      "metadata": {
        "execution": {
          "iopub.execute_input": "2020-10-12T00:51:46.676Z",
          "iopub.status.busy": "2020-10-12T00:51:46.667Z",
          "iopub.status.idle": "2020-10-12T00:51:46.688Z",
          "shell.execute_reply": "2020-10-12T00:51:46.268Z"
        },
        "id": "O3jPbo4vAvPc",
        "outputId": "7370d54c-3f7f-4ea3-cb19-f7a44062993b",
        "colab": {
          "base_uri": "https://localhost:8080/"
        }
      },
      "source": [
        "txtFile = open(\"email.txt\", \"r\")\n",
        "contentsFile = txtFile.readlines()\n",
        "lineNumbers = 0\n",
        "for line in contentsFile:\n",
        "  lineNumbers += 1\n",
        "wordNumbers = 0\n",
        "for line in contentsFile:\n",
        "  words = len(line.split())\n",
        "  wordNumbers += words\n",
        "print(\"In the email.txt file there are\", lineNumbers, \"lines and\", wordNumbers, \"words\")\n",
        "txtFile.close()"
      ],
      "execution_count": null,
      "outputs": [
        {
          "output_type": "stream",
          "text": [
            "In the email.txt file there are 10 lines and 100 words\n"
          ],
          "name": "stdout"
        }
      ]
    },
    {
      "cell_type": "markdown",
      "metadata": {
        "id": "YTYiW9MeAvPd"
      },
      "source": [
        "**b)** Display the subject of the received email existing in the `email.txt` file, then display the number of the upper and lower cases in the subject field."
      ]
    },
    {
      "cell_type": "code",
      "metadata": {
        "execution": {
          "iopub.execute_input": "2020-10-12T00:51:46.714Z",
          "iopub.status.busy": "2020-10-12T00:51:46.705Z",
          "iopub.status.idle": "2020-10-12T00:51:46.725Z",
          "shell.execute_reply": "2020-10-12T00:51:46.279Z"
        },
        "id": "b5J7kRLZAvPe",
        "outputId": "f1ce204f-fd79-4db5-fcce-ef7b17864e0f",
        "colab": {
          "base_uri": "https://localhost:8080/"
        }
      },
      "source": [
        "txtFile = open(\"email.txt\", \"r\")\n",
        "contentsFile = txtFile.readlines()\n",
        "subject_line = ()\n",
        "for line in contentsFile:\n",
        "  if (line.startswith(\"Subject:\") and line.endswith(\"\\n\")):\n",
        "    subject_line = line.replace('Subject:','')\n",
        "lower = upper = 0\n",
        "for i in subject_line:\n",
        "  if (i>='a' and i<='z'):\n",
        "    lower += 1\n",
        "  if (i>='A' and i<='Z'):\n",
        "    upper += 1\n",
        "print(subject_line)\n",
        "print(\"Lower cases in Subject line is \", lower)\n",
        "print(\"Upper cases in Subject line is \", upper)\n",
        "txtFile.close()"
      ],
      "execution_count": null,
      "outputs": [
        {
          "output_type": "stream",
          "text": [
            " SAVE YOUR MUSIC AND REDEEM A SPOTIFY GIFT CARD\n",
            "\n",
            "Lower cases in Subject line is  0\n",
            "Upper cases in Subject line is  38\n"
          ],
          "name": "stdout"
        }
      ]
    },
    {
      "cell_type": "markdown",
      "metadata": {
        "id": "bHHNxP0IAvPe"
      },
      "source": [
        "**c)** Does the email contain spam words such as 'gift', 'sign' or 'Buy'? "
      ]
    },
    {
      "cell_type": "code",
      "metadata": {
        "execution": {
          "iopub.execute_input": "2020-10-12T00:51:46.749Z",
          "iopub.status.busy": "2020-10-12T00:51:46.740Z",
          "iopub.status.idle": "2020-10-12T00:51:46.761Z",
          "shell.execute_reply": "2020-10-12T00:51:46.292Z"
        },
        "id": "NduU2lxxAvPg",
        "outputId": "3765c437-3da9-44e7-cd27-8e8ee815bd28",
        "colab": {
          "base_uri": "https://localhost:8080/"
        }
      },
      "source": [
        "txtFile = open(\"email.txt\", \"r\")\n",
        "contentsFile = txtFile.read()\n",
        "words = contentsFile.split()\n",
        "gift_count = sign_count = buy_count = 0\n",
        "for iword in words:\n",
        "    if iword.upper() == \"GIFT\":\n",
        "      gift_count += 1\n",
        "    if iword.upper() == \"SIGN\":\n",
        "      sign_count += 1\n",
        "    if iword.upper == \"BUY\":\n",
        "      buy_count += 1\n",
        "if (gift_count > 1) or (sign_count > 1) or (buy_count > 1):\n",
        "  print(\"The email contain words such as 'gift'\", gift_count, \"times, 'sign'\", sign_count, \"times, and 'Buy'\", buy_count, \"times\")\n",
        "else:\n",
        "  print(\"The email contain no words such as 'gift', 'sign', or 'Buy'\")\n",
        "txtFile.close()\n"
      ],
      "execution_count": null,
      "outputs": [
        {
          "output_type": "stream",
          "text": [
            "The email contain words such as 'gift' 2 times, 'sign' 2 times, and 'Buy' 0 times\n"
          ],
          "name": "stdout"
        }
      ]
    },
    {
      "cell_type": "markdown",
      "metadata": {
        "id": "TO4Ed0HWpg6d"
      },
      "source": [
        "**d)** Define a list that consists of 10 different email spam trigger words, then check whether any of those words exist in the body of the email or not. If the email contains a spam word, print it; otherwise, return a message that the email does not include any predefined spam words."
      ]
    },
    {
      "cell_type": "code",
      "metadata": {
        "execution": {
          "iopub.execute_input": "2020-10-12T00:51:46.788Z",
          "iopub.status.busy": "2020-10-12T00:51:46.778Z",
          "iopub.status.idle": "2020-10-12T00:51:46.796Z",
          "shell.execute_reply": "2020-10-12T00:51:46.307Z"
        },
        "id": "xrhY3djppg6d",
        "outputId": "5ad9bb5a-5a6f-40e6-e40e-913d2b52e3dd",
        "colab": {
          "base_uri": "https://localhost:8080/"
        }
      },
      "source": [
        "txtFile = open(\"email.txt\", \"r\")\n",
        "contentsFile = txtFile.read()\n",
        "words = contentsFile.split()\n",
        "spam_list = ['Lottery', 'Click', 'Congratulations', 'Credit card', 'Prize', 'Free cash', 'Money', 'Buy', 'Giving away', 'Win']\n",
        "spam_words = []\n",
        "for iword in words:\n",
        "  if iword in spam_list:\n",
        "    spam_words.append(iword)\n",
        "if len(spam_words) == 0:\n",
        "  print(\"The email does not include any predefined spam words\")\n",
        "else:\n",
        "  print(\"The email contains the following predefined spam words: \\n\", spam_words)\n",
        "txtFile.close()"
      ],
      "execution_count": null,
      "outputs": [
        {
          "output_type": "stream",
          "text": [
            "The email does not include any predefined spam words\n"
          ],
          "name": "stdout"
        }
      ]
    },
    {
      "cell_type": "markdown",
      "metadata": {
        "id": "l9l0sjUoAvPk"
      },
      "source": [
        "#### This is the end of assignment 2"
      ]
    }
  ]
}